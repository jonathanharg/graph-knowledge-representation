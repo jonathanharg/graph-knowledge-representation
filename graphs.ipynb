{
 "cells": [
  {
   "cell_type": "code",
   "execution_count": null,
   "metadata": {},
   "outputs": [],
   "source": [
    "import networkx as nx\n",
    "import pandas as pd\n",
    "import numpy as np\n",
    "import sqlite3\n",
    "from sklearn.cluster import DBSCAN, KMeans\n",
    "import matplotlib.pyplot as plt\n",
    "from itertools import combinations\n",
    "import igraph as ig\n",
    "%config InlineBackend.figure_formats = ['svg']"
   ]
  },
  {
   "cell_type": "markdown",
   "metadata": {
    "jp-MarkdownHeadingCollapsed": true
   },
   "source": [
    "### Load Data\n"
   ]
  },
  {
   "cell_type": "code",
   "execution_count": null,
   "metadata": {},
   "outputs": [],
   "source": [
    "con = sqlite3.connect(\"emps.db\")\n",
    "\n",
    "module = pd.read_sql_query(\"SELECT * FROM module\", con)\n",
    "module_discipline = pd.read_sql_query(\"SELECT * FROM module_discipline\", con)\n",
    "programme = pd.read_sql_query(\"SELECT * FROM programme\", con)\n",
    "requisite = pd.read_sql_query(\"SELECT * FROM requisite\", con)\n",
    "staff = pd.read_sql_query(\"SELECT * FROM staff\", con)\n",
    "stage_module = pd.read_sql_query(\"SELECT * FROM stage_module\", con)"
   ]
  },
  {
   "cell_type": "code",
   "execution_count": null,
   "metadata": {},
   "outputs": [],
   "source": [
    "edge_sql = \"\"\"\n",
    "WITH filtered_modules AS (\n",
    "\tSELECT DISTINCT\n",
    "\t\tmoduleCode\n",
    "\tFROM\n",
    "\t\tstage_module\n",
    "\tWHERE\n",
    "\t\tstage_module.moduleCode IS NOT NULL\n",
    "\t\tAND moduleTitle NOT LIKE '%elective%'\n",
    "\t\tAND moduleTitle NOT LIKE '%free choice%'\n",
    "\t\tAND stage_module.program_id IN(\n",
    "\t\t\tSELECT\n",
    "\t\t\t\tid FROM programme\n",
    "\t\t\tWHERE\n",
    "\t\t\t\t\"year\" BETWEEN 2021 AND 2024\n",
    "\t\t\t\tAND title LIKE '%mathematics%'\n",
    "\t\t\t\tAND programme. \"type\" = \"Undergraduate\")\n",
    ")\n",
    "SELECT\n",
    "\t*\n",
    "FROM\n",
    "\t\"requisite\"\n",
    "WHERE\n",
    "\trequisite. \"module\" IN filtered_modules\n",
    "\tAND requisite.requires IN filtered_modules;\n",
    "\"\"\"\n",
    "edge_df = pd.read_sql_query(edge_sql, con)\n",
    "node_sql = \"\"\"\n",
    "SELECT DISTINCT\n",
    "\tMIN(sm.stage) AS stage,\n",
    "\tsm.moduleCode,\n",
    "\tsm.moduleTitle,\n",
    "\tsm.moduleCredits,\n",
    "\tm.credit,\n",
    "\tMIN(sm.isCompulsory) AS IsCompulsory,\n",
    "\tMAX(sm.isNonCondonable) AS IsNonCondonable,\n",
    "\tm.studentsCount,\n",
    "\tm.year\n",
    "FROM\n",
    "\tstage_module AS sm\n",
    "\tLEFT JOIN \"module\" AS m ON sm.moduleCode = m.moduleCode\n",
    "WHERE\n",
    "\tsm.moduleCode IS NOT NULL\n",
    "\tAND sm.moduleTitle NOT LIKE '%elective%'\n",
    "\tAND sm.moduleTitle NOT LIKE '%free choice%'\n",
    "\tAND sm.moduleCode NOT IN('xxxxxxx', 'BE*M**', 'BE*M***', 'BEE3*', 'BEE3***', 'BEE3****', 'BEE3XXX', 'BEM2***', 'BIOMXXX', 'MTH****', 'MTH2XXX/3XXX', 'MTH3***', 'PHYMXXX', 'GEOMXXX')\n",
    "\tAND sm.program_id IN(\n",
    "\t\tSELECT\n",
    "\t\t\tid FROM programme\n",
    "\t\tWHERE\n",
    "\t\t\t\"year\" BETWEEN 2021 AND 2024\n",
    "\t\t\tAND title LIKE '%mathematics%'\n",
    "\t\t\tAND programme. \"type\" = \"Undergraduate\")\n",
    "GROUP BY\n",
    "\tsm.moduleCode;\n",
    "\"\"\"\n",
    "node_df = pd.read_sql_query(node_sql, con)\n",
    "\n",
    "all_modules_nx = nx.DiGraph()\n",
    "\n",
    "for index, row in node_df.iterrows():\n",
    "    node_id = row[\"moduleCode\"]\n",
    "    attributes = {k: v for k, v in row.items() if k != \"moduleCode\"}\n",
    "    all_modules_nx.add_node(node_id, **attributes)\n",
    "\n",
    "for index, row in edge_df.iterrows():\n",
    "    source = row[\"module\"]\n",
    "    target = row[\"requires\"]\n",
    "    attributes = {k: v for k, v in row.items() if k != \"module\" and k != \"requires\"}\n",
    "    all_modules_nx.add_edge(source, target, **attributes)\n",
    "    all_modules_nx.edges[source, target][\"label\"] = \"requires\""
   ]
  },
  {
   "cell_type": "markdown",
   "metadata": {
    "jp-MarkdownHeadingCollapsed": true
   },
   "source": [
    "### Subject Choice Data\n"
   ]
  },
  {
   "cell_type": "markdown",
   "metadata": {},
   "source": [
    "Business Modules\n",
    "BEE1038\n",
    "BEM1006\n",
    "BEM2007\n",
    "BEM2036\n",
    "BEM2031\n",
    "BEM3060\n",
    "BEM3052\n"
   ]
  },
  {
   "cell_type": "code",
   "execution_count": null,
   "metadata": {},
   "outputs": [],
   "source": [
    "J_y1 = [\"ECM1400\", \"ECM1410\", \"ECM1413\", \"ECM1414\", \"MTH1001\", \"MTH1002\"]\n",
    "J_y2 = [\n",
    "    \"ECM2414\",\n",
    "    \"ECM2418\",\n",
    "    \"ECM2419\",\n",
    "    \"ECM2423\",\n",
    "    \"ECM2433\",\n",
    "    \"ECM2434\",\n",
    "    \"MTH2008\",\n",
    "    \"MTH2011\",\n",
    "]\n",
    "J_y3 = [\"ECM3401\", \"ECM3408\", \"ECM3420\", \"ECM3423\", \"MTH3019\", \"MTH3022\"]\n",
    "J = all_modules_nx.subgraph(J_y1 + J_y2 + J_y3)"
   ]
  },
  {
   "cell_type": "code",
   "execution_count": null,
   "metadata": {},
   "outputs": [],
   "source": [
    "L_y1 = [\"MTH1001\", \"MTH1002\", \"MTH1003\", \"MTH1004\"]\n",
    "L_y2 = [\n",
    "    \"MTH2003\",\n",
    "    \"MTH2004\",\n",
    "    \"MTH2008\",\n",
    "    \"MTH2009\",\n",
    "    \"MTH2010\",\n",
    "    \"MTH2011\",\n",
    "]  # NOTE: and sociology modules\n",
    "L_y3 = [\n",
    "    \"MTH3004\",\n",
    "    \"MTH3022\",\n",
    "    \"MTH3019\",\n",
    "    \"MTH3042\",\n",
    "    \"MTH3035\",\n",
    "]  # NOTE: and sociology modules\n",
    "\n",
    "L = all_modules_nx.subgraph(L_y1 + L_y2 + L_y3)"
   ]
  },
  {
   "cell_type": "code",
   "execution_count": null,
   "metadata": {},
   "outputs": [],
   "source": [
    "M_y1 = [\"ECM1400\", \"ECM1410\", \"ECM1413\", \"ECM1414\", \"MTH1001\", \"MTH1002\"]\n",
    "M_y2 = [\n",
    "    \"ECM2414\",\n",
    "    \"ECM2418\",\n",
    "    \"MTH2010\",\n",
    "    \"ECM2427\",\n",
    "    \"ECM2433\",\n",
    "    \"ECM2434\",\n",
    "    \"MTH2008\",\n",
    "    \"MTH2011\",\n",
    "]\n",
    "M_y3 = [\"ECM3420\", \"ECM3428\", \"MTH3004\", \"MTH3019\", \"ECM3408\", \"ECM3401\"]\n",
    "\n",
    "M = all_modules_nx.subgraph(M_y1 + M_y2 + M_y3)"
   ]
  },
  {
   "cell_type": "code",
   "execution_count": null,
   "metadata": {},
   "outputs": [],
   "source": [
    "BJ_y1 = [\"MTH1001\", \"MTH1002\", \"MTH1003\", \"MTH1004\"]\n",
    "BJ_y2 = [\"MTH2003\", \"MTH2004\", \"MTH2005\", \"MTH2006\", \"MTH2008\", \"MTH2009\"]\n",
    "BJ_y3 = [\n",
    "    \"BEM2031\",\n",
    "    \"BEM2036\",\n",
    "    \"MTH3024\",\n",
    "    \"MTH3028\",\n",
    "    \"MTH3030\",\n",
    "    \"MTH3035\",\n",
    "    \"MTH3042\",\n",
    "    \"MTH3045\",\n",
    "]\n",
    "\n",
    "BJ = all_modules_nx.subgraph(BJ_y1 + BJ_y2 + BJ_y3)"
   ]
  },
  {
   "cell_type": "code",
   "execution_count": null,
   "metadata": {},
   "outputs": [],
   "source": [
    "JLT_y1 = [\"MTH1001\", \"MTH1002\", \"MTH1003\", \"MTH1004\"]\n",
    "JLT_y2 = [\"MTH2003\", \"MTH2006\", \"MTH2008\", \"MTH2010\", \"MTH2011\", \"BEE1038\", \"BEM2036\"]\n",
    "JLT_y3 = [\"BEM2031\", \"MTH3019\", \"MTH3024\", \"MTH3028\", \"MTH3045\"]\n",
    "\n",
    "JT = all_modules_nx.subgraph(JLT_y1 + JLT_y2 + JLT_y3)"
   ]
  },
  {
   "cell_type": "code",
   "execution_count": null,
   "metadata": {},
   "outputs": [],
   "source": [
    "CC_y1 = [\"MTH1001\", \"MTH1002\", \"MTH1003\", \"MTH1004\"]\n",
    "CC_y2 = [\"MTH2003\", \"MTH2006\", \"MTH2008\", \"MTH2010\", \"MTH2011\", \"BEE1038\", \"MTH2009\"]\n",
    "CC_y3 = [\n",
    "    \"MTH3028\",\n",
    "    \"BEM2031\",\n",
    "    \"MTH3004\",\n",
    "    \"MTH3024\",\n",
    "    \"MTH3038\",\n",
    "    \"MTH3026\",\n",
    "    \"MTH3022\",\n",
    "    \"MTHM036\",\n",
    "]\n",
    "\n",
    "CC = all_modules_nx.subgraph(CC_y1 + CC_y2 + CC_y3)"
   ]
  },
  {
   "cell_type": "code",
   "execution_count": null,
   "metadata": {},
   "outputs": [],
   "source": [
    "EP_y1 = [\"MTH1001\", \"MTH1002\", \"MTH1003\", \"MTH1004\"]\n",
    "EP_y2 = [\"MTH2003\", \"MTH2004\", \"MTH2005\", \"MTH2008\", \"MTH2009\", \"MTH2010\"]\n",
    "EP_y3 = [\n",
    "    \"MTH3019\",\n",
    "    \"MTH3022\",\n",
    "    \"MTH3035\",\n",
    "    \"MTH3042\",\n",
    "    \"MTH3007\",\n",
    "    \"MTH3011\",\n",
    "]  # + German Beginners\n",
    "\n",
    "EP = all_modules_nx.subgraph(EP_y1 + EP_y2 + EP_y3)"
   ]
  },
  {
   "cell_type": "code",
   "execution_count": null,
   "metadata": {},
   "outputs": [],
   "source": [
    "ZL_y1 = [\"MTH1001\", \"MTH1002\", \"MTH1003\", \"MTH1004\"]\n",
    "ZL_y2 = [\"MTH2003\", \"MTH2004\", \"MTH2005\", \"MTH2006\", \"MTH2008\", \"MTH2009\"]\n",
    "ZL_y3 = [\"MTH3035\", \"MTH3006\", \"MTH3007\", \"MTH3042\", \"MTH3022\", \"BEM3060\", \"BEM3052\"]\n",
    "\n",
    "ZL = all_modules_nx.subgraph(ZL_y1 + ZL_y2 + ZL_y3)"
   ]
  },
  {
   "cell_type": "code",
   "execution_count": null,
   "metadata": {},
   "outputs": [],
   "source": [
    "IW_y1 = [\"MTH1001\", \"MTH1002\", \"MTH1003\", \"MTH1004\"]\n",
    "IW_y2 = [\"MTH2003\", \"MTH2004\", \"MTH2005\", \"MTH2008\", \"MTH2009\"]\n",
    "IW_y3 = [\n",
    "    \"MTH3035\",\n",
    "    \"MTH3006\",\n",
    "    \"MTH3007\",\n",
    "    \"MTH3042\",\n",
    "    \"MTH3022\",\n",
    "    \"MTH3011\",\n",
    "    \"BEM3060\",\n",
    "    \"BEM3052\",\n",
    "]\n",
    "\n",
    "IW = all_modules_nx.subgraph(IW_y1 + IW_y2 + IW_y3)"
   ]
  },
  {
   "cell_type": "code",
   "execution_count": null,
   "metadata": {},
   "outputs": [],
   "source": [
    "K_y1 = [\"MTH1001\", \"MTH1002\", \"MTH1003\", \"MTH1004\"]\n",
    "K_y2 = [\"MTH2003\", \"MTH2006\", \"MTH2008\", \"MTH2009\", \"MTH2010\", \"MTH2011\", \"BEM1006\"]\n",
    "K_y3 = [\n",
    "    \"MTH3042\",\n",
    "    \"MTH3022\",\n",
    "    \"MTH3024\",\n",
    "    \"MTH3035\",\n",
    "    \"BEM2007\",\n",
    "    \"BEM3060\",\n",
    "    \"MTH3040\",\n",
    "    \"MTH3028\",\n",
    "]\n",
    "\n",
    "K = all_modules_nx.subgraph(K_y1 + K_y2 + K_y3)"
   ]
  },
  {
   "cell_type": "markdown",
   "metadata": {
    "jp-MarkdownHeadingCollapsed": true
   },
   "source": [
    "### People Intersection & Combination\n"
   ]
  },
  {
   "cell_type": "code",
   "execution_count": null,
   "metadata": {},
   "outputs": [],
   "source": [
    "JL_intersecting_nodes = nx.intersection(J, L)\n",
    "combined_JL_nx = nx.compose_all([J, L])\n",
    "for node in combined_JL_nx.nodes:\n",
    "    if node in JL_intersecting_nodes:\n",
    "        combined_JL_nx.nodes[node][\"color\"] = \"red\"\n",
    "    elif node in J:\n",
    "        combined_JL_nx.nodes[node][\"color\"] = \"green\"\n",
    "    elif node in L:\n",
    "        combined_JL_nx.nodes[node][\"color\"] = \"blue\"\n",
    "    else:\n",
    "        combined_JL_nx.nodes[node][\"color\"] = \"black\""
   ]
  },
  {
   "cell_type": "code",
   "execution_count": null,
   "metadata": {},
   "outputs": [],
   "source": [
    "people = [J, M, L, JT, EP, CC, K, ZL, IW, BJ]\n",
    "people_names = [\"J\", \"M\", \"L\", \"JT\", \"E\", \"C\", \"K\", \"Z\", \"I\", \"B\"]\n",
    "\n",
    "all_nx = nx.compose_all(people).copy()\n",
    "\n",
    "for node in all_nx.nodes:\n",
    "    score = 0\n",
    "    for P in people:\n",
    "        if node in P:\n",
    "            score += 1\n",
    "    all_nx.nodes[node][\"count\"] = score"
   ]
  },
  {
   "cell_type": "markdown",
   "metadata": {
    "jp-MarkdownHeadingCollapsed": true
   },
   "source": [
    "### Comparison Functions\n"
   ]
  },
  {
   "cell_type": "code",
   "execution_count": null,
   "metadata": {},
   "outputs": [],
   "source": [
    "def overlap_coefficient(X, Y):\n",
    "    intx = nx.intersection(X, Y)\n",
    "    return len(intx.nodes) / min(len(X.nodes), len(Y.nodes))"
   ]
  },
  {
   "cell_type": "code",
   "execution_count": null,
   "metadata": {},
   "outputs": [],
   "source": [
    "def jaccard_index(X, Y):\n",
    "    intersection = nx.intersection(X, Y)\n",
    "    union = nx.compose(X, Y)\n",
    "    return len(intersection) / len(union)"
   ]
  },
  {
   "cell_type": "code",
   "execution_count": null,
   "metadata": {},
   "outputs": [],
   "source": [
    "def node_symetric_difference(X, Y):\n",
    "    intx = nx.intersection(X, Y)\n",
    "    union = nx.compose(X, Y)\n",
    "    return len(union.nodes - intx.nodes)"
   ]
  },
  {
   "cell_type": "code",
   "execution_count": null,
   "metadata": {},
   "outputs": [],
   "source": [
    "def compare_laplacian(X, Y):\n",
    "    X_lap = nx.laplacian_spectrum(X.to_undirected())\n",
    "    Y_lap = nx.laplacian_spectrum(Y.to_undirected())\n",
    "\n",
    "    penalty = abs(len(X_lap) - len(Y_lap))\n",
    "    longest = max(len(X_lap), len(Y_lap))\n",
    "\n",
    "    X_lap = np.pad(X_lap, (0, longest - len(X_lap)))\n",
    "    Y_lap = np.pad(Y_lap, (0, longest - len(Y_lap)))\n",
    "\n",
    "    manhattan_distance = np.sum(np.abs(X_lap - Y_lap))\n",
    "\n",
    "    return manhattan_distance + penalty"
   ]
  },
  {
   "cell_type": "code",
   "execution_count": null,
   "metadata": {},
   "outputs": [],
   "source": [
    "def compare_adjacency(X, Y):\n",
    "    X_adj = nx.adjacency_spectrum(X.to_undirected())\n",
    "    Y_adj = nx.adjacency_spectrum(Y.to_undirected())\n",
    "\n",
    "    penalty = abs(len(X_adj) - len(Y_adj))\n",
    "    longest = max(len(X_adj), len(Y_adj))\n",
    "\n",
    "    X_adj = np.pad(X_adj, (0, longest - len(X_adj)))\n",
    "    Y_adj = np.pad(Y_adj, (0, longest - len(Y_adj)))\n",
    "\n",
    "    manhattan_distance = np.sum(np.abs(X_adj - Y_adj))\n",
    "\n",
    "    return manhattan_distance + penalty"
   ]
  },
  {
   "cell_type": "markdown",
   "metadata": {
    "jp-MarkdownHeadingCollapsed": true
   },
   "source": [
    "### Graph Comparisons\n"
   ]
  },
  {
   "cell_type": "code",
   "execution_count": null,
   "metadata": {},
   "outputs": [],
   "source": [
    "def compare_graph_similarity(graphs, functions):\n",
    "    pairs = list(combinations(range(len(graphs)), 2))\n",
    "    outputs = {}\n",
    "    for func in functions:\n",
    "        results = np.zeros((len(graphs), len(graphs)))\n",
    "        for X, Y in pairs:\n",
    "            results[X, Y] = results[Y, X] = func(graphs[X], graphs[Y])\n",
    "        outputs[func.__name__] = results\n",
    "    return outputs"
   ]
  },
  {
   "cell_type": "code",
   "execution_count": null,
   "metadata": {},
   "outputs": [],
   "source": [
    "comparison_functions = [\n",
    "    overlap_coefficient,\n",
    "    jaccard_index,\n",
    "    node_symetric_difference,\n",
    "    compare_laplacian,\n",
    "    compare_adjacency,\n",
    "]\n",
    "similarities = compare_graph_similarity(people, comparison_functions)\n",
    "\n",
    "for n, m in similarities.items():\n",
    "    with np.printoptions(precision=3, suppress=True):\n",
    "        print(f\"{n} matrix:\")\n",
    "        # print(m)\n",
    "        print(\n",
    "            np.array2string(\n",
    "                m,\n",
    "                separator=\" & \",\n",
    "                max_line_width=np.inf,\n",
    "                formatter={\"int\": lambda x: f\"{x:d}\"},\n",
    "            )\n",
    "        )\n",
    "\n",
    "selected_measure = \"node_symetric_difference\"\n",
    "distance_matrix = similarities[selected_measure]\n",
    "\n",
    "name_mapping = {index: value for index, value in enumerate(people_names)}\n",
    "\n",
    "distance_nx = nx.from_numpy_array(distance_matrix)\n",
    "nx.relabel_nodes(distance_nx, name_mapping, False)\n",
    "\n",
    "distances_nx = distance_nx.copy()\n",
    "for u, v, data in distances_nx.edges(data=True):\n",
    "    if \"weight\" in data:\n",
    "        data[\"weight\"] = round(data[\"weight\"], 2)"
   ]
  },
  {
   "cell_type": "markdown",
   "metadata": {},
   "source": [
    "### Clustering / Community Detection\n"
   ]
  },
  {
   "cell_type": "code",
   "execution_count": null,
   "metadata": {},
   "outputs": [],
   "source": [
    "clustering = DBSCAN(eps=8, min_samples=2, metric=\"precomputed\")\n",
    "# ['J', 'M', 'L', 'BJ', 'JLT', 'CC', 'K'  'ZL', 'EP','IW']\n",
    "# [ CS, CS,   ?,  Ap/St, St,   P/St, P/St   Ap,  P/Ap,  P,  ]\n",
    "clustering.fit(distance_matrix)\n",
    "clustering.labels_"
   ]
  },
  {
   "cell_type": "code",
   "execution_count": null,
   "metadata": {},
   "outputs": [],
   "source": [
    "# ['J', 'M', 'L', 'BJ', 'JLT', 'CC', 'K'  'ZL', 'EP','IW']\n",
    "# [ CS, CS,   ?,  Ap/St, St,   P/St, P/St   Ap,  P/Ap,  P,  ]\n",
    "\n",
    "km = KMeans(n_clusters=3).fit(distance_matrix)\n",
    "km.labels_"
   ]
  },
  {
   "cell_type": "code",
   "execution_count": null,
   "metadata": {},
   "outputs": [],
   "source": [
    "comp = nx.community.girvan_newman(distances_nx)\n",
    "tuple(sorted(c) for c in next(comp))"
   ]
  },
  {
   "cell_type": "code",
   "execution_count": null,
   "metadata": {},
   "outputs": [],
   "source": [
    "nx.community.louvain_communities(distances_nx, resolution=1.1)"
   ]
  },
  {
   "cell_type": "markdown",
   "metadata": {},
   "source": [
    "# Visualisations"
   ]
  },
  {
   "cell_type": "code",
   "execution_count": null,
   "metadata": {},
   "outputs": [],
   "source": [
    "all_modules_ig = ig.Graph.from_networkx(all_modules_nx)\n",
    "\n",
    "sizes = [v[\"studentsCount\"] for v in all_modules_ig.vs]\n",
    "normalized_sizes = np.interp(sizes, (np.nanmin(sizes), np.nanmax(sizes)), (3, 9))\n",
    "\n",
    "for i, v in enumerate(all_modules_ig.vs):\n",
    "    size = normalized_sizes[i]\n",
    "    size = 2 if np.isnan(size) else size\n",
    "    v[\"size\"] = size\n",
    "\n",
    "layout = all_modules_ig.layout_fruchterman_reingold(niter=1000)\n",
    "\n",
    "fig, ax = plt.subplots()\n",
    "pl = ig.plot(\n",
    "    all_modules_ig,\n",
    "    target=ax,\n",
    "    layout=layout,\n",
    "    margin=0,\n",
    "    vertex_label=[v[\"_nx_name\"] for v in all_modules_ig.vs],\n",
    "    vertex_label_dist=2,\n",
    "    vertex_label_size=0.5,\n",
    "    vertex_color=\"black\",\n",
    "    edge_width=0.2,\n",
    "    vertex_frame_width=0,\n",
    "    bbox=(1200, 1200),\n",
    "    edge_arrow_size=2,\n",
    "    edge_arrow_width=2,\n",
    ")\n",
    "fig.savefig(\"all.svg\", transparent=True)\n",
    "plt.show()"
   ]
  },
  {
   "cell_type": "code",
   "execution_count": null,
   "metadata": {},
   "outputs": [],
   "source": [
    "def small_vis(\n",
    "    G,\n",
    "    target,\n",
    "    vertex_color=\"black\",\n",
    "    layout=\"auto\",\n",
    "    margin=0,\n",
    "    vertex_size=10,\n",
    "    vertex_label=None,\n",
    "    vertex_label_dist=2,\n",
    "    vertex_label_size=7,\n",
    "    edge_width=1.5,\n",
    "    vertex_frame_width=0,\n",
    "    edge_arrow_size=3,\n",
    "    edge_arrow_width=3,\n",
    "    **kwargs\n",
    "):\n",
    "    vertex_label = (\n",
    "        [v[\"_nx_name\"] for v in G.vs]\n",
    "        if vertex_label is None\n",
    "        else (\n",
    "            [v[vertex_label] for v in G.vs]\n",
    "            if isinstance(vertex_label, str)\n",
    "            else vertex_label\n",
    "        )\n",
    "    )\n",
    "    return ig.plot(\n",
    "        G,\n",
    "        target=target,\n",
    "        vertex_color=vertex_color,\n",
    "        layout=layout,\n",
    "        margin=margin,\n",
    "        vertex_size=vertex_size,\n",
    "        vertex_label=vertex_label,\n",
    "        vertex_label_dist=vertex_label_dist,\n",
    "        vertex_label_size=vertex_label_size,\n",
    "        edge_width=edge_width,\n",
    "        vertex_frame_width=vertex_frame_width,\n",
    "        edge_arrow_size=edge_arrow_size,\n",
    "        edge_arrow_width=edge_arrow_width,\n",
    "        **kwargs\n",
    "    )"
   ]
  },
  {
   "cell_type": "code",
   "execution_count": null,
   "metadata": {},
   "outputs": [],
   "source": [
    "J_ig = ig.Graph.from_networkx(J)\n",
    "\n",
    "fig, ax = plt.subplots()\n",
    "pl = small_vis(J_ig, ax)\n",
    "fig.savefig(\"J.svg\", transparent=True)\n",
    "plt.show()"
   ]
  },
  {
   "cell_type": "code",
   "execution_count": null,
   "metadata": {},
   "outputs": [],
   "source": [
    "L_ig = ig.Graph.from_networkx(L)\n",
    "\n",
    "fig, ax = plt.subplots()\n",
    "pl = pl = small_vis(L_ig, ax)\n",
    "fig.savefig(\"L.svg\", transparent=True)\n",
    "plt.show()"
   ]
  },
  {
   "cell_type": "code",
   "execution_count": null,
   "metadata": {},
   "outputs": [],
   "source": [
    "combined_JL_ig = ig.Graph.from_networkx(combined_JL_nx)\n",
    "\n",
    "fig, ax = plt.subplots()\n",
    "pl = pl = small_vis(combined_JL_ig, ax, vertex_color=None)\n",
    "fig.savefig(\"2combined.svg\", transparent=True)\n",
    "plt.show()"
   ]
  },
  {
   "cell_type": "code",
   "execution_count": null,
   "metadata": {},
   "outputs": [],
   "source": [
    "all_ig = ig.Graph.from_networkx(all_nx)\n",
    "sizes = [v[\"count\"] for v in all_ig.vs]\n",
    "sizes = np.interp(sizes, (np.min(sizes), np.max(sizes)), (5, 15))\n",
    "sizes = [s if s != 5 else 3 for s in sizes]\n",
    "fig, ax = plt.subplots()\n",
    "pl = pl = small_vis(all_ig, ax, vertex_size=sizes, vertex_label_size=5)\n",
    "fig.savefig(\"10combined.svg\", transparent=True)\n",
    "plt.show()"
   ]
  },
  {
   "cell_type": "code",
   "execution_count": null,
   "metadata": {},
   "outputs": [],
   "source": [
    "distances_ig = ig.Graph.from_networkx(distances_nx)\n",
    "\n",
    "fig, ax = plt.subplots()\n",
    "pl = pl = small_vis(distances_ig, ax, layout=\"circle\", edge_label=[x[\"weight\"] for x in distances_ig.es], vertex_label_size=15, vertex_label_dist=3, edge_label_size=6, edge_color=\"gray\")\n",
    "fig.savefig(f\"K_{selected_measure}.svg\", transparent=True)\n",
    "plt.show()"
   ]
  },
  {
   "cell_type": "markdown",
   "metadata": {},
   "source": [
    "# Knowledge Representation Via Directed Graphs\n"
   ]
  },
  {
   "cell_type": "markdown",
   "metadata": {},
   "source": [
    "## Network Representations of various Mathematics Degrees\n",
    "\n",
    "- Graphs with degree dependencies\n",
    "- Graphs with degree dependencies + MSC\n"
   ]
  },
  {
   "cell_type": "markdown",
   "metadata": {},
   "source": [
    "Consider a directed graph $G$, whose vertices represent modules in the College of Engineering, Mathematics and Physical Sciences (EMPS) at Exeter University. In this graph, the directed edges represent a modules prerequisite. For example if a edge has its tail at \"MTH1001\" and its head at \"MTH2010\" it encodes the information that a student must take or have taken Mathematical Structures in order to take Groups, Rings and Fields. These edges will have the value \"requires\". Later we will add different types of edges to the graph, but we shall stick to just module requirements for now.\n"
   ]
  },
  {
   "cell_type": "markdown",
   "metadata": {},
   "source": [
    "The EMPS modules which a mathematics student at Exeter University takes can therefore be represented as a subgraph of $G$, since this graph contains all modules, and module requirements are the same for every student. As part of our investigation we analysed 10 students Mathematics degrees, each taking a variety of different mathematics and non-mathematics modules. Each student was also asked to assign to each module a variety of Mathematical Subject Classification (MSC) codes [CITE]. MSC codes are used to categorise mathematical fields and can be used to represent the type of mathematical content a module covers. Each individual gave their own MSC codes for each module, as different students perception of each module may be different. The MSC module codes have been omitted in the following example for readability.\n"
   ]
  },
  {
   "cell_type": "markdown",
   "metadata": {},
   "source": [
    "## Methods for Comparing Similarity\n",
    "\n",
    "- The Overlap Coefficient, also known as the Szymkiewicz-Simpson coefficient\n",
    "- Graph Edit Distance (Without MSC)\n"
   ]
  },
  {
   "cell_type": "markdown",
   "metadata": {},
   "source": [
    "## Practical Applications\n",
    "\n",
    "- Guide for new students picking modules\n",
    "- Improved graduate job searching, e.g. matching similarity of grad cracker or linkedin job posts and degree graph (using LLMs)\n"
   ]
  },
  {
   "cell_type": "markdown",
   "metadata": {},
   "source": [
    "## LLM Categorisation\n",
    "\n",
    "- Problems with LLMs: ChatGPT hallucinates of MSC codes e.g.\n",
    "  68N30 - Mathematical aspects of software engineering in general\n",
    "  68N31 - Predesign\n",
    "  68N32 - Design\n",
    "- Problems with LLMs: Context length, needs to be able to provide enough tokens (words) to give the whole MSC and also EMPS module description, context length is $O(n^2)$\n",
    "- Around 40k tokens for MSC code and title\n",
    "- Around 4K tokens for Module Descriptors\n",
    "- Solution use Claude, arguably best current model, largest context window and input token limit (200K). Do prompt engineering to avoid hallucinations\n",
    "\n",
    "```\n",
    "This is the MSC subject classifications is CSV format:\n",
    "<MSC>\n",
    "    {msc_text}\n",
    "</MSC>\n",
    "\n",
    "This is a universities module description\n",
    "<module>\n",
    "    {module_description}\n",
    "</module>\n",
    "\n",
    "Using the MSC subject classifications, classify this module. Only answer if you know the answer with certainty. Justify your answers. List the classification or classifications inside <classification> XML tags.\n",
    "```\n"
   ]
  },
  {
   "cell_type": "markdown",
   "metadata": {},
   "source": [
    "## Machine Learning Methods\n",
    "\n",
    "- Use DBSCAN to cluster types of degrees based on distances between individuals\n"
   ]
  }
 ],
 "metadata": {
  "kernelspec": {
   "display_name": "Python 3 (ipykernel)",
   "language": "python",
   "name": "python3"
  },
  "language_info": {
   "codemirror_mode": {
    "name": "ipython",
    "version": 3
   },
   "file_extension": ".py",
   "mimetype": "text/x-python",
   "name": "python",
   "nbconvert_exporter": "python",
   "pygments_lexer": "ipython3",
   "version": "3.12.1"
  }
 },
 "nbformat": 4,
 "nbformat_minor": 4
}
