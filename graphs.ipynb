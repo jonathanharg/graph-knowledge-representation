{
 "cells": [
  {
   "cell_type": "code",
   "execution_count": null,
   "metadata": {},
   "outputs": [],
   "source": [
    "import networkx as nx\n",
    "import pandas as pd\n",
    "import numpy as np\n",
    "import sqlite3\n",
    "import gravis as gv\n",
    "from sklearn.cluster import DBSCAN, KMeans\n",
    "import pygraphviz\n",
    "# from pyvis.network import Network\n",
    "# import graph_tool.all as gt\n",
    "import matplotlib.pyplot as plt\n",
    "from itertools import combinations\n",
    "%config InlineBackend.figure_formats = ['svg']"
   ]
  },
  {
   "cell_type": "code",
   "execution_count": null,
   "metadata": {},
   "outputs": [],
   "source": [
    "con = sqlite3.connect('emps.db')\n",
    "\n",
    "module = pd.read_sql_query(\"SELECT * FROM module\", con)\n",
    "module_discipline = pd.read_sql_query(\"SELECT * FROM module_discipline\", con)\n",
    "programme = pd.read_sql_query(\"SELECT * FROM programme\", con)\n",
    "requisite = pd.read_sql_query(\"SELECT * FROM requisite\", con)\n",
    "staff = pd.read_sql_query(\"SELECT * FROM staff\", con)\n",
    "stage_module = pd.read_sql_query(\"SELECT * FROM stage_module\", con)"
   ]
  },
  {
   "cell_type": "code",
   "execution_count": null,
   "metadata": {},
   "outputs": [],
   "source": [
    "RQ_edge_sql = \"\"\"\n",
    "WITH filtered_modules AS (\n",
    "\tSELECT DISTINCT\n",
    "\t\tmoduleCode\n",
    "\tFROM\n",
    "\t\tstage_module\n",
    "\tWHERE\n",
    "\t\tstage_module.moduleCode IS NOT NULL\n",
    "\t\tAND moduleTitle NOT LIKE '%elective%'\n",
    "\t\tAND moduleTitle NOT LIKE '%free choice%'\n",
    "\t\tAND stage_module.program_id IN(\n",
    "\t\t\tSELECT\n",
    "\t\t\t\tid FROM programme\n",
    "\t\t\tWHERE\n",
    "\t\t\t\t\"year\" BETWEEN 2021 AND 2024\n",
    "\t\t\t\tAND title LIKE '%mathematics%'\n",
    "\t\t\t\tAND programme. \"type\" = \"Undergraduate\")\n",
    ")\n",
    "SELECT\n",
    "\t*\n",
    "FROM\n",
    "\t\"requisite\"\n",
    "WHERE\n",
    "\trequisite. \"module\" IN filtered_modules\n",
    "\tAND requisite.requires IN filtered_modules;\n",
    "\"\"\"\n",
    "RQ_edge_df = pd.read_sql_query(RQ_edge_sql, con)\n",
    "RQ_node_sql = \"\"\"\n",
    "SELECT DISTINCT\n",
    "\tMIN(sm.stage) AS stage,\n",
    "\tsm.moduleCode,\n",
    "\tsm.moduleTitle,\n",
    "\tsm.moduleCredits,\n",
    "\tm.credit,\n",
    "\tMIN(sm.isCompulsory) AS IsCompulsory,\n",
    "\tMAX(sm.isNonCondonable) AS IsNonCondonable,\n",
    "\tm.studentsCount,\n",
    "\tm.year\n",
    "FROM\n",
    "\tstage_module AS sm\n",
    "\tLEFT JOIN \"module\" AS m ON sm.moduleCode = m.moduleCode\n",
    "WHERE\n",
    "\tsm.moduleCode IS NOT NULL\n",
    "\tAND sm.moduleTitle NOT LIKE '%elective%'\n",
    "\tAND sm.moduleTitle NOT LIKE '%free choice%'\n",
    "\tAND sm.moduleCode NOT IN('xxxxxxx', 'BE*M**', 'BE*M***', 'BEE3*', 'BEE3***', 'BEE3****', 'BEE3XXX', 'BEM2***', 'BIOMXXX', 'MTH****', 'MTH2XXX/3XXX', 'MTH3***', 'PHYMXXX', 'GEOMXXX')\n",
    "\tAND sm.program_id IN(\n",
    "\t\tSELECT\n",
    "\t\t\tid FROM programme\n",
    "\t\tWHERE\n",
    "\t\t\t\"year\" BETWEEN 2021 AND 2024\n",
    "\t\t\tAND title LIKE '%mathematics%'\n",
    "\t\t\tAND programme. \"type\" = \"Undergraduate\")\n",
    "GROUP BY\n",
    "\tsm.moduleCode;\n",
    "\"\"\"\n",
    "RQ_node_df = pd.read_sql_query(RQ_node_sql, con)\n",
    "\n",
    "G = nx.DiGraph()\n",
    "\n",
    "for index, row in RQ_node_df.iterrows():\n",
    "    node_id = row['moduleCode']\n",
    "    attributes = {k: v for k, v in row.items() if k != 'moduleCode'}\n",
    "    G.add_node(node_id, **attributes)\n",
    "\n",
    "for index, row in RQ_edge_df.iterrows():\n",
    "    source = row['module']\n",
    "    target = row['requires']\n",
    "    attributes = {k: v for k, v in row.items() if k != 'module' and k != 'requires'}\n",
    "    G.add_edge(source, target, **attributes)\n",
    "    G.edges[source, target]['label'] = 'requires'\n",
    "\n",
    "VIS_CENTER = {'avoid_overlap':1.0, 'central_gravity':0.95}\n",
    "# A = nx.nx_agraph.to_agraph(G)\n",
    "V = gv.vis(G, node_size_data_source=\"studentsCount\", use_node_size_normalization=True, **VIS_CENTER)\n",
    "V.export_html(\"./G.html\", True)\n",
    "V\n",
    "# A.layout(\"fdp\")\n",
    "# # A\n",
    "# # layout = nx.kamada_kawai_layout(G)\n",
    "# layout = nx.spring_layout(G, iterations=100000)\n",
    "# layout = nx.spring_layout(G)\n",
    "# nx.draw(G, pos=layout)\n",
    "# with open('g.cyjs', 'w') as f:\n",
    "#     import json\n",
    "#     json.dump(nx.cytoscape_data(G), f)\n",
    "\n",
    "# gt.sfdp_layout()\n"
   ]
  },
  {
   "cell_type": "code",
   "execution_count": null,
   "metadata": {},
   "outputs": [],
   "source": [
    "def overlap_coefficient(X, Y):\n",
    "    intx = nx.intersection(X, Y)\n",
    "    return len(intx.nodes) / min(len(X.nodes), len(Y.nodes))"
   ]
  },
  {
   "cell_type": "code",
   "execution_count": null,
   "metadata": {},
   "outputs": [],
   "source": [
    "def jaccard_index(X, Y):\n",
    "    intersection = nx.intersection(X, Y)\n",
    "    union = nx.compose(X, Y)\n",
    "    return len(intersection) / len(union)"
   ]
  },
  {
   "cell_type": "code",
   "execution_count": null,
   "metadata": {},
   "outputs": [],
   "source": [
    "def node_symetric_difference(X, Y):\n",
    "    intx = nx.intersection(X, Y)\n",
    "    union = nx.compose(X, Y)\n",
    "    return len(union.nodes - intx.nodes)"
   ]
  },
  {
   "cell_type": "code",
   "execution_count": null,
   "metadata": {},
   "outputs": [],
   "source": [
    "def compare_laplacian(X, Y):\n",
    "    X_lap = nx.laplacian_spectrum(X.to_undirected())\n",
    "    Y_lap = nx.laplacian_spectrum(Y.to_undirected())\n",
    "\n",
    "    penalty = abs(len(X_lap) - len(Y_lap))\n",
    "    longest = max(len(X_lap), len(Y_lap))\n",
    "\n",
    "    X_lap = np.pad(X_lap, (0, longest - len(X_lap)))\n",
    "    Y_lap = np.pad(Y_lap, (0, longest - len(Y_lap)))\n",
    "\n",
    "    manhattan_distance = np.sum(np.abs(X_lap - Y_lap))\n",
    "\n",
    "    return manhattan_distance + penalty"
   ]
  },
  {
   "cell_type": "code",
   "execution_count": null,
   "metadata": {},
   "outputs": [],
   "source": [
    "def compare_adjacency(X, Y):\n",
    "    X_adj = nx.adjacency_spectrum(X.to_undirected())\n",
    "    Y_adj = nx.adjacency_spectrum(Y.to_undirected())\n",
    "\n",
    "    penalty = abs(len(X_adj) - len(Y_adj))\n",
    "    longest = max(len(X_adj), len(Y_adj))\n",
    "\n",
    "    X_adj = np.pad(X_adj, (0, longest - len(X_adj)))\n",
    "    Y_adj = np.pad(Y_adj, (0, longest - len(Y_adj)))\n",
    "\n",
    "    manhattan_distance = np.sum(np.abs(X_adj - Y_adj))\n",
    "\n",
    "    return manhattan_distance + penalty"
   ]
  },
  {
   "cell_type": "markdown",
   "metadata": {},
   "source": [
    "Business Modules\n",
    "BEE1038\n",
    "BEM1006\n",
    "BEM2007\n",
    "BEM2036\n",
    "BEM2031\n",
    "BEM3060\n",
    "BEM3052"
   ]
  },
  {
   "cell_type": "code",
   "execution_count": null,
   "metadata": {},
   "outputs": [],
   "source": [
    "J_y1 = [\"ECM1400\", \"ECM1410\", \"ECM1413\", \"ECM1414\", \"MTH1001\", \"MTH1002\"]\n",
    "J_y2 = [\"ECM2414\", \"ECM2418\", \"ECM2419\", \"ECM2423\", \"ECM2433\", \"ECM2434\", \"MTH2008\", \"MTH2011\"]\n",
    "J_y3 = [\"ECM3401\", \"ECM3408\", \"ECM3420\", \"ECM3423\", \"MTH3019\", \"MTH3022\"]\n",
    "J = G.subgraph(J_y1 + J_y2 + J_y3)\n",
    "\n",
    "gv.vis(J, **VIS_CENTER)"
   ]
  },
  {
   "cell_type": "code",
   "execution_count": null,
   "metadata": {},
   "outputs": [],
   "source": [
    "L_y1 = [\"MTH1001\", \"MTH1002\", \"MTH1003\", \"MTH1004\"]\n",
    "L_y2 = [\"MTH2003\", \"MTH2004\", \"MTH2008\", \"MTH2009\", \"MTH2010\", \"MTH2011\"] # NOTE: and sociology modules\n",
    "L_y3 = [\"MTH3004\", \"MTH3022\", \"MTH3019\", \"MTH3042\", \"MTH3035\"] # NOTE: and sociology modules\n",
    "\n",
    "L = G.subgraph(L_y1 + L_y2 + L_y3)\n",
    "gv.vis(L, **VIS_CENTER)"
   ]
  },
  {
   "cell_type": "code",
   "execution_count": null,
   "metadata": {},
   "outputs": [],
   "source": [
    "M_y1 = [\"ECM1400\", \"ECM1410\", \"ECM1413\", \"ECM1414\", \"MTH1001\", \"MTH1002\"]\n",
    "M_y2 = [\"ECM2414\", \"ECM2418\", \"MTH2010\", \"ECM2427\" , \"ECM2433\", \"ECM2434\", \"MTH2008\", \"MTH2011\"]\n",
    "M_y3 = [\"ECM3420\", \"ECM3428\", \"MTH3004\", \"MTH3019\", \"ECM3408\", \"ECM3401\"]\n",
    "\n",
    "M = G.subgraph(M_y1 + M_y2 + M_y3)"
   ]
  },
  {
   "cell_type": "code",
   "execution_count": null,
   "metadata": {},
   "outputs": [],
   "source": [
    "BJ_y1 = [\"MTH1001\", \"MTH1002\", \"MTH1003\", \"MTH1004\"]\n",
    "BJ_y2 = [\"MTH2003\", \"MTH2004\", \"MTH2005\", \"MTH2006\", \"MTH2008\", \"MTH2009\"]\n",
    "BJ_y3 = [\"BEM2031\", \"BEM2036\", \"MTH3024\", \"MTH3028\", \"MTH3030\", \"MTH3035\", \"MTH3042\", \"MTH3045\"]\n",
    "\n",
    "BJ = G.subgraph(BJ_y1 + BJ_y2 + BJ_y3)"
   ]
  },
  {
   "cell_type": "code",
   "execution_count": null,
   "metadata": {},
   "outputs": [],
   "source": [
    "JLT_y1 = [\"MTH1001\", \"MTH1002\", \"MTH1003\", \"MTH1004\"]\n",
    "JLT_y2 = [\"MTH2003\", \"MTH2006\", \"MTH2008\", \"MTH2010\", \"MTH2011\", \"BEE1038\", \"BEM2036\"]\n",
    "JLT_y3 = [\"BEM2031\", \"MTH3019\", \"MTH3024\", \"MTH3028\", \"MTH3045\"]\n",
    "\n",
    "JLT = G.subgraph(JLT_y1 + JLT_y2 + JLT_y3)"
   ]
  },
  {
   "cell_type": "code",
   "execution_count": null,
   "metadata": {},
   "outputs": [],
   "source": [
    "CC_y1 = [\"MTH1001\", \"MTH1002\", \"MTH1003\", \"MTH1004\"]\n",
    "CC_y2 = [\"MTH2003\", \"MTH2006\", \"MTH2008\", \"MTH2010\", \"MTH2011\", \"BEE1038\", \"MTH2009\"]\n",
    "CC_y3 = [\"MTH3028\", \"BEM2031\", \"MTH3004\", \"MTH3024\", \"MTH3038\", \"MTH3026\", \"MTH3022\", \"MTHM036\"]\n",
    "\n",
    "CC = G.subgraph(CC_y1 + CC_y2 + CC_y3)"
   ]
  },
  {
   "cell_type": "code",
   "execution_count": null,
   "metadata": {},
   "outputs": [],
   "source": [
    "EP_y1 = [\"MTH1001\", \"MTH1002\", \"MTH1003\", \"MTH1004\"]\n",
    "EP_y2 = [\"MTH2003\", \"MTH2004\", \"MTH2005\", \"MTH2008\", \"MTH2009\", \"MTH2010\"]\n",
    "EP_y3 = [\"MTH3019\", \"MTH3022\", \"MTH3035\", \"MTH3042\", \"MTH3007\", \"MTH3011\"] # + German Beginners\n",
    "\n",
    "EP = G.subgraph(EP_y1 + EP_y2 + EP_y3)"
   ]
  },
  {
   "cell_type": "code",
   "execution_count": null,
   "metadata": {},
   "outputs": [],
   "source": [
    "ZL_y1 = [\"MTH1001\", \"MTH1002\", \"MTH1003\", \"MTH1004\"]\n",
    "ZL_y2 = [\"MTH2003\", \"MTH2004\", \"MTH2005\", \"MTH2006\", \"MTH2008\", \"MTH2009\"]\n",
    "ZL_y3 = [\"MTH3035\", \"MTH3006\", \"MTH3007\", \"MTH3042\", \"MTH3022\", \"BEM3060\", \"BEM3052\"]\n",
    "\n",
    "ZL = G.subgraph(ZL_y1 + ZL_y2 + ZL_y3)"
   ]
  },
  {
   "cell_type": "code",
   "execution_count": null,
   "metadata": {},
   "outputs": [],
   "source": [
    "IW_y1 = [\"MTH1001\", \"MTH1002\", \"MTH1003\", \"MTH1004\"]\n",
    "IW_y2 = [\"MTH2003\", \"MTH2004\", \"MTH2005\", \"MTH2008\", \"MTH2009\"]\n",
    "IW_y3 = [\"MTH3035\", \"MTH3006\", \"MTH3007\", \"MTH3042\", \"MTH3022\", \"MTH3011\", \"BEM3060\", \"BEM3052\"]\n",
    "\n",
    "IW = G.subgraph(IW_y1 + IW_y2 + IW_y3)"
   ]
  },
  {
   "cell_type": "code",
   "execution_count": null,
   "metadata": {},
   "outputs": [],
   "source": [
    "K_y1 = [\"MTH1001\", \"MTH1002\", \"MTH1003\", \"MTH1004\"]\n",
    "K_y2 = [\"MTH2003\", \"MTH2006\", \"MTH2008\", \"MTH2009\", \"MTH2010\", \"MTH2011\", \"BEM1006\"]\n",
    "K_y3 = [\"MTH3042\", \"MTH3022\", \"MTH3024\", \"MTH3035\", \"BEM2007\", \"BEM3060\", \"MTH3040\", \"MTH3028\"]\n",
    "\n",
    "K = G.subgraph(K_y1 + K_y2 + K_y3)"
   ]
  },
  {
   "cell_type": "code",
   "execution_count": null,
   "metadata": {},
   "outputs": [],
   "source": [
    "intx = nx.intersection(J, L)\n",
    "C = nx.compose_all([J, L, M])\n",
    "for node in C.nodes:\n",
    "    if node in intx:\n",
    "        C.nodes[node]['color'] = \"red\"\n",
    "    elif node in J:\n",
    "        C.nodes[node]['color'] = \"green\"\n",
    "    elif node in L:\n",
    "        C.nodes[node]['color'] = \"blue\"\n",
    "    else:\n",
    "        C.nodes[node]['color'] = \"black\"\n",
    "\n",
    "\n",
    "gv.vis(C, **VIS_CENTER)"
   ]
  },
  {
   "cell_type": "code",
   "execution_count": null,
   "metadata": {},
   "outputs": [],
   "source": [
    "people = [J, L, M, BJ, JLT, CC, EP, ZL, IW, K]\n",
    "ALL = nx.compose_all(people).copy()\n",
    "\n",
    "for node in ALL.nodes:\n",
    "    score = 0\n",
    "    for P in people:\n",
    "        if node in P:\n",
    "            score += 1\n",
    "    ALL.nodes[node][\"count\"] = score\n",
    "\n",
    "gv.vis(ALL, use_node_size_normalization=True, node_size_data_source=\"count\", **VIS_CENTER)"
   ]
  },
  {
   "cell_type": "code",
   "execution_count": null,
   "metadata": {},
   "outputs": [],
   "source": [
    "def compare_graph_similarity(graphs, functions):\n",
    "    pairs = list(combinations(range(len(graphs)), 2))\n",
    "    outputs = {}\n",
    "    for func in functions:\n",
    "        results = np.zeros((len(graphs), len(graphs)))\n",
    "        for (X, Y) in pairs:\n",
    "            results[X, Y] = results[Y, X] = func(graphs[X], graphs[Y])\n",
    "        outputs[func.__name__] = results\n",
    "    return outputs"
   ]
  },
  {
   "cell_type": "code",
   "execution_count": null,
   "metadata": {},
   "outputs": [],
   "source": [
    "people = [J,L, M, JLT, EP, CC, K, ZL, IW, BJ]\n",
    "funcs = [\n",
    "    overlap_coefficient,\n",
    "    jaccard_index,\n",
    "    node_symetric_difference,\n",
    "    compare_laplacian,\n",
    "    compare_adjacency,\n",
    "]\n",
    "similarities = compare_graph_similarity(people, funcs)\n",
    "\n",
    "for n, m in similarities.items():\n",
    "    with np.printoptions(precision=3, suppress=True):\n",
    "        print(f\"{n} matrix:\")\n",
    "        # print(m)\n",
    "        print(np.array2string(m, separator=' & ', max_line_width=np.inf, formatter={'int': lambda x: f\"{x:d}\"}))\n",
    "\n",
    "\n",
    "distance_matrix = similarities[\"node_symetric_difference\"]\n",
    "\n",
    "people_names = [\"J\", \"M\", \"L\", \"JT\", \"E\", \"C\", \"K\", \"Z\", \"I\", \"B\"]\n",
    "name_mapping = {index: value for index, value in enumerate(people_names)}\n",
    "\n",
    "H = nx.from_numpy_array(distance_matrix)\n",
    "nx.relabel_nodes(H, name_mapping, False)\n",
    "\n",
    "D = H.copy()\n",
    "for u, v, data in D.edges(data=True):\n",
    "    if \"weight\" in data:\n",
    "        data[\"weight\"] = round(data[\"weight\"], 2)\n",
    "gv.vis(D, edge_label_data_source=\"weight\", show_edge_label=True)\n",
    "\n",
    "# [J, M, L, JLT, EP, CC, K, ZL, IW, BJ]"
   ]
  },
  {
   "cell_type": "code",
   "execution_count": null,
   "metadata": {},
   "outputs": [],
   "source": [
    "clustering = DBSCAN(eps=8, min_samples=2, metric='precomputed')\n",
    "# ['J', 'M', 'L', 'BJ', 'JLT', 'CC', 'K'  'ZL', 'EP','IW']\n",
    "# [ CS, CS,   ?,  Ap/St, St,   P/St, P/St   Ap,  P/Ap,  P,  ]\n",
    "clustering.fit(distance_matrix)\n",
    "clustering.labels_"
   ]
  },
  {
   "cell_type": "code",
   "execution_count": null,
   "metadata": {},
   "outputs": [],
   "source": [
    "# ['J', 'M', 'L', 'BJ', 'JLT', 'CC', 'K'  'ZL', 'EP','IW']\n",
    "# [ CS, CS,   ?,  Ap/St, St,   P/St, P/St   Ap,  P/Ap,  P,  ]\n",
    "\n",
    "km = KMeans(n_clusters=3).fit(distance_matrix)\n",
    "km.labels_"
   ]
  },
  {
   "cell_type": "markdown",
   "metadata": {},
   "source": [
    "# Knowledge Representation Via Directed Graphs"
   ]
  },
  {
   "cell_type": "markdown",
   "metadata": {},
   "source": [
    "## Network Representations of various Mathematics Degrees\n",
    "- Graphs with degree dependencies\n",
    "- Graphs with degree dependencies + MSC"
   ]
  },
  {
   "cell_type": "markdown",
   "metadata": {},
   "source": [
    "Consider a directed graph $G$, whose vertices represent modules in the College of Engineering, Mathematics and Physical Sciences (EMPS) at Exeter University. In this graph, the directed edges represent a modules prerequisite. For example if a edge has its tail at \"MTH1001\" and its head at \"MTH2010\" it encodes the information that a student must take or have taken Mathematical Structures in order to take Groups, Rings and Fields. These edges will have the value \"requires\". Later we will add different types of edges to the graph, but we shall stick to just module requirements for now."
   ]
  },
  {
   "cell_type": "markdown",
   "metadata": {},
   "source": [
    "The EMPS modules which a mathematics student at Exeter University takes can therefore be represented as a subgraph of $G$, since this graph contains all modules, and module requirements are the same for every student. As part of our investigation we analysed 10 students Mathematics degrees, each taking a variety of different mathematics and non-mathematics modules. Each student was also asked to assign to each module a variety of Mathematical Subject Classification (MSC) codes [CITE]. MSC codes are used to categorise mathematical fields and can be used to represent the type of mathematical content a module covers. Each individual gave their own MSC codes for each module, as different students perception of each module may be different. The MSC module codes have been omitted in the following example for readability."
   ]
  },
  {
   "cell_type": "markdown",
   "metadata": {},
   "source": [
    "## Methods for Comparing Similarity\n",
    "- The Overlap Coefficient, also known as the Szymkiewicz-Simpson coefficient\n",
    "- Graph Edit Distance (Without MSC)"
   ]
  },
  {
   "cell_type": "markdown",
   "metadata": {},
   "source": [
    "## Practical Applications\n",
    "- Guide for new students picking modules\n",
    "- Improved graduate job searching, e.g. matching similarity of grad cracker or linkedin job posts and degree graph (using LLMs)"
   ]
  },
  {
   "cell_type": "markdown",
   "metadata": {},
   "source": [
    "## LLM Categorisation\n",
    "- Problems with LLMs: ChatGPT hallucinates of MSC codes e.g.\n",
    "68N30 - Mathematical aspects of software engineering in general\n",
    "68N31 - Predesign\n",
    "68N32 - Design\n",
    "- Problems with LLMs: Context length, needs to be able to provide enough tokens (words) to give the whole MSC and also EMPS module description, context length is $O(n^2)$\n",
    "- Around 40k tokens for MSC code and title\n",
    "- Around 4K tokens for Module Descriptors\n",
    "- Solution use Claude, arguably best current model, largest context window and input token limit (200K). Do prompt engineering to avoid hallucinations\n",
    "\n",
    "```\n",
    "This is the MSC subject classifications is CSV format:\n",
    "<MSC>\n",
    "    {msc_text}\n",
    "</MSC>\n",
    "\n",
    "This is a universities module description\n",
    "<module>\n",
    "    {module_description}\n",
    "</module>\n",
    "\n",
    "Using the MSC subject classifications, classify this module. Only answer if you know the answer with certainty. Justify your answers. List the classification or classifications inside <classification> XML tags.\n",
    "```\n"
   ]
  },
  {
   "cell_type": "markdown",
   "metadata": {},
   "source": [
    "## Machine Learning Methods\n",
    "- Use DBSCAN to cluster types of degrees based on distances between individuals"
   ]
  }
 ],
 "metadata": {
  "kernelspec": {
   "display_name": ".venv",
   "language": "python",
   "name": "python3"
  },
  "language_info": {
   "codemirror_mode": {
    "name": "ipython",
    "version": 3
   },
   "file_extension": ".py",
   "mimetype": "text/x-python",
   "name": "python",
   "nbconvert_exporter": "python",
   "pygments_lexer": "ipython3",
   "version": "3.12.1"
  }
 },
 "nbformat": 4,
 "nbformat_minor": 2
}
